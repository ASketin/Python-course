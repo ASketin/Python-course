{
 "cells": [
  {
   "cell_type": "markdown",
   "metadata": {},
   "source": [
    "### Теорминимум"
   ]
  },
  {
   "cell_type": "markdown",
   "metadata": {},
   "source": [
    "<h4><b>Кого отправить в пиццерию?</b></h4>\n",
    "\n",
    "Компания друзей хочет купить пиццу. Чтобы не платить за доставку, нужно послать кого-нибудь в пиццерию. Кого? Самого младшего!"
   ]
  },
  {
   "cell_type": "code",
   "execution_count": 3,
   "metadata": {},
   "outputs": [
    {
     "name": "stdout",
     "output_type": "stream",
     "text": [
      "Введите возраст друга: 67\n",
      "Введите возраст друга: 44\n",
      "Введите возраст друга: 33\n",
      "Введите возраст друга: 22\n",
      "Введите возраст друга: 0\n",
      "За пиццой пойдет малой(22 лет)\n"
     ]
    }
   ],
   "source": [
    "current_age = int(input(\"Введите возраст друга: \"))\n",
    "min_age = 999\n",
    "\n",
    "while current_age != 0:\n",
    "    if current_age < min_age:\n",
    "        min_age = current_age\n",
    "    current_age = int(input(\"Введите возраст друга: \"))\n",
    "\n",
    "print(f\"За пиццой пойдет малой({min_age} лет)\")"
   ]
  },
  {
   "cell_type": "markdown",
   "metadata": {},
   "source": [
    "    * Малого нашли, теперь надо подсчитать хватит ли нам на пиццу с ананасами"
   ]
  },
  {
   "cell_type": "code",
   "execution_count": 5,
   "metadata": {},
   "outputs": [
    {
     "name": "stdout",
     "output_type": "stream",
     "text": [
      "Введите количество друзей: 2\n",
      "Введите сумму: 100\n",
      "Введите сумму: 150\n",
      "Идем за чебупелями в магазин!\n"
     ]
    }
   ],
   "source": [
    "total_amount = 0\n",
    "people_2_ask = int(input(\"Введите количество друзей: \"))\n",
    "\n",
    "while people_2_ask != 0:\n",
    "    personal_contribution = int(input(\"Введите сумму: \"))\n",
    "    total_amount += personal_contribution # total_amount = total_amount + personal_contribution\n",
    "    people_2_ask -= 1\n",
    "\n",
    "if total_amount >= 500:\n",
    "    print(\"Нам хватило на пиццу!\")\n",
    "else:\n",
    "    print(\"Идем за чебупелями в магазин!\")"
   ]
  },
  {
   "cell_type": "markdown",
   "metadata": {},
   "source": [
    "    * Пусть конструкция сама следит за границами"
   ]
  },
  {
   "cell_type": "code",
   "execution_count": 8,
   "metadata": {},
   "outputs": [
    {
     "name": "stdout",
     "output_type": "stream",
     "text": [
      "Введите количество друзей: 2\n",
      "Введите сумму: 100\n",
      "Введите сумму: 500\n",
      "Нам хватило на пиццу!\n"
     ]
    }
   ],
   "source": [
    "total_amount = 0\n",
    "people_2_ask = int(input(\"Введите количество друзей: \"))\n",
    "\n",
    "for friend in range(0, people_2_ask):\n",
    "    personal_contribution = int(input(\"Введите сумму: \"))\n",
    "    total_amount += personal_contribution\n",
    "\n",
    "if total_amount >= 500:\n",
    "    print(\"Нам хватило на пиццу!\")\n",
    "else:\n",
    "    print(\"Идем за чебупелями в магазин!\")"
   ]
  },
  {
   "cell_type": "markdown",
   "metadata": {},
   "source": [
    "<h4><b>Пожар</b></h4>\n",
    "\n",
    "Продолжаем работать в офисе пока температура не достигнет пожароопасной."
   ]
  },
  {
   "cell_type": "code",
   "execution_count": 5,
   "metadata": {},
   "outputs": [
    {
     "name": "stdout",
     "output_type": "stream",
     "text": [
      "Считайте показания прибора: 20\n",
      "Считайте показания прибора: 25\n",
      "Считайте показания прибора: 33\n",
      "Считайте показания прибора: 11\n",
      "Считайте показания прибора: 40\n",
      "Считайте показания прибора: 55\n",
      "Прекращай работу!\n"
     ]
    }
   ],
   "source": [
    "ok_status = True\n",
    "\n",
    "while ok_status:\n",
    "    current_temperature = int(input(\"Считайте показания прибора: \"))\n",
    "    if current_temperature > 40:\n",
    "        print(\"Прекращай работу!\")\n",
    "        ok_status = False"
   ]
  },
  {
   "cell_type": "code",
   "execution_count": 6,
   "metadata": {},
   "outputs": [
    {
     "name": "stdout",
     "output_type": "stream",
     "text": [
      "Считайте показания прибора: 20\n",
      "Считайте показания прибора: 25\n",
      "Считайте показания прибора: 33\n",
      "Считайте показания прибора: 11\n",
      "Считайте показания прибора: 40\n",
      "Считайте показания прибора: 55\n",
      "Прекращай работу!\n"
     ]
    }
   ],
   "source": [
    "while True:\n",
    "    current_temperature = int(input(\"Считайте показания прибора: \"))\n",
    "    if current_temperature > 40:\n",
    "        print(\"Прекращай работу!\")\n",
    "        break"
   ]
  },
  {
   "cell_type": "code",
   "execution_count": 1,
   "metadata": {},
   "outputs": [
    {
     "name": "stdout",
     "output_type": "stream",
     "text": [
      "Считайте показания прибора: 22\n",
      "Считайте показания прибора: 33\n",
      "Считайте показания прибора: 27\n",
      "Считайте показания прибора: 38\n",
      "Считайте показания прибора: 42\n",
      "Сегодня пусть работает собственник!\n",
      "Считайте показания прибора: -1\n",
      "Пусть починят прибор!\n"
     ]
    }
   ],
   "source": [
    "ok_status = True\n",
    "while ok_status:\n",
    "    current_temperature = int(input(\"Считайте показания прибора: \"))\n",
    "    if current_temperature > 40:\n",
    "        print(\"Сегодня пусть работает собственник!\")\n",
    "        continue\n",
    "    if current_temperature == -1:\n",
    "        print(\"Пусть починят прибор!\")\n",
    "        ok_status = False"
   ]
  },
  {
   "cell_type": "markdown",
   "metadata": {},
   "source": [
    "### Задачи"
   ]
  },
  {
   "cell_type": "markdown",
   "metadata": {},
   "source": [
    "По данному целому числу N распечатайте все квадраты натуральных чисел, не превосходящие N, в порядке возрастания.\n",
    "\n",
    "<p><b>Формат входных данных</b></p>\n",
    "Вводится натуральное число.\n",
    "\n",
    "<p><b>Формат выходных данных</b></p>\n",
    "Выведите ответ на задачу.\n",
    "\n",
    "<p><b>Sample Input:</b></p>\n",
    "\n",
    "50\n",
    "<p><b>Sample Output:</b></p>\n",
    "\n",
    "1 4 9 16 25 36 49"
   ]
  },
  {
   "cell_type": "code",
   "execution_count": null,
   "metadata": {},
   "outputs": [],
   "source": []
  },
  {
   "cell_type": "markdown",
   "metadata": {},
   "source": [
    "По данному числу N распечатайте все целые степени двойки, не превосходящие N, в порядке возрастания.\n",
    "\n",
    "<p><b>Формат входных данных</b></p>\n",
    "Вводится натуральное число.\n",
    "\n",
    "<p><b>Формат выходных данных</b></p>\n",
    "Выведите ответ на задачу.\n",
    "\n",
    "<p><b>Sample Input:</b></p>\n",
    "\n",
    "50\n",
    "<p><b>Sample Output:</b></p>\n",
    "\n",
    "1 2 4 8 16 32"
   ]
  },
  {
   "cell_type": "code",
   "execution_count": null,
   "metadata": {},
   "outputs": [],
   "source": []
  },
  {
   "cell_type": "markdown",
   "metadata": {},
   "source": [
    "Программа получает на вход последовательность целых неотрицательных чисел, каждое число записано в отдельной строке. Последовательность завершается числом 0, при считывании которого программа должна закончить свою работу и вывести количество членов последовательности (не считая завершающего числа 0).\n",
    "Числа, следующие за числом 0, считывать не нужно.\n",
    "\n",
    "<p><b>Формат входных данных</b></p>\n",
    "Вводится последовательность целых чисел, заканчивающаяся числом 0.\n",
    "<p><b>Формат выходных данных</b></p>\n",
    "Выведите ответ на задачу.\n",
    "<p><b>Sample Input:</b></p>\n",
    "\n",
    "1\n",
    "7\n",
    "9\n",
    "0\n",
    "5\n",
    "<p><b>Sample Output:</b></p>\n",
    "\n",
    "3"
   ]
  },
  {
   "cell_type": "code",
   "execution_count": null,
   "metadata": {},
   "outputs": [],
   "source": []
  },
  {
   "cell_type": "markdown",
   "metadata": {},
   "source": [
    "Последовательность состоит из натуральных чисел и завершается числом 0. Определите значение наибольшего элемента последовательности.\n",
    "\n",
    "<p><b>Формат входных данных</b></p>\n",
    "Вводится последовательность целых чисел, оканчивающаяся числом 0 (само число 0 в последовательность не входит, а служит как признак ее окончания).\n",
    "<p><b>Формат выходных данных</b></p>\n",
    "Выведите ответ на задачу.\n",
    "<p><b>Sample Input:</b></p>\n",
    "\n",
    "1\n",
    "7\n",
    "9\n",
    "0\n",
    "<p><b>Sample Output:</b></p>\n",
    "\n",
    "9"
   ]
  },
  {
   "cell_type": "code",
   "execution_count": null,
   "metadata": {},
   "outputs": [],
   "source": []
  },
  {
   "cell_type": "markdown",
   "metadata": {},
   "source": [
    "Последовательность состоит из натуральных чисел и завершается числом 0. Определите значение второго по величине элемента в этой последовательности, то есть элемента, который будет наибольшим, если из последовательности удалить наибольший элемент.\n",
    "\n",
    "<p><b>Формат входных данных</b></p>\n",
    "Вводится последовательность целых чисел, оканчивающаяся числом 0 (само число 0 в последовательность не входит, а служит как признак ее окончания).\n",
    "<p><b>Формат выходных данных</b></p>\n",
    "Выведите ответ на задачу.\n",
    "<p><b>Sample Input 1:</b></p>\n",
    "\n",
    "4\n",
    "4\n",
    "2\n",
    "3\n",
    "0\n",
    "<p><b>Sample Output 1:</b></p>\n",
    "\n",
    "4\n",
    "<p><b>Sample Input 2:</b></p>\n",
    "\n",
    "2\n",
    "1\n",
    "0\n",
    "<p><b>Sample Output 2:</b></p>\n",
    "\n",
    "1"
   ]
  },
  {
   "cell_type": "code",
   "execution_count": null,
   "metadata": {},
   "outputs": [],
   "source": []
  }
 ],
 "metadata": {
  "kernelspec": {
   "display_name": "Python 3",
   "language": "python",
   "name": "python3"
  },
  "language_info": {
   "codemirror_mode": {
    "name": "ipython",
    "version": 3
   },
   "file_extension": ".py",
   "mimetype": "text/x-python",
   "name": "python",
   "nbconvert_exporter": "python",
   "pygments_lexer": "ipython3",
   "version": "3.7.4"
  }
 },
 "nbformat": 4,
 "nbformat_minor": 2
}
